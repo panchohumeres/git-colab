{
  "nbformat": 4,
  "nbformat_minor": 0,
  "metadata": {
    "colab": {
      "provenance": []
    },
    "kernelspec": {
      "name": "python3",
      "display_name": "Python 3"
    },
    "language_info": {
      "name": "python"
    }
  },
  "cells": [
    {
      "cell_type": "code",
      "execution_count": null,
      "metadata": {
        "colab": {
          "base_uri": "https://localhost:8080/"
        },
        "id": "ZXxuMopWpYJ-",
        "outputId": "15d5ac57-cad9-4008-f84f-7386e7a86865"
      },
      "outputs": [
        {
          "output_type": "stream",
          "name": "stdout",
          "text": [
            "git version 2.34.1\n"
          ]
        }
      ],
      "source": [
        "#check git version\n",
        "!git --version"
      ]
    },
    {
      "cell_type": "code",
      "source": [
        "#mount google drive\n",
        "from google.colab import drive\n",
        "drive.mount('/content/drive')"
      ],
      "metadata": {
        "colab": {
          "base_uri": "https://localhost:8080/"
        },
        "id": "gmKLrt-Zpoad",
        "outputId": "d496b90a-71a9-4010-a99e-ad3edf9b2a21"
      },
      "execution_count": null,
      "outputs": [
        {
          "output_type": "stream",
          "name": "stdout",
          "text": [
            "Mounted at /content/drive\n"
          ]
        }
      ]
    },
    {
      "cell_type": "markdown",
      "source": [
        "### Uncomment and Execute first time\n",
        "Hard-code parameters (git username, git email, git repo url) for one time, uncomment and execute:\n",
        "1. cd to drive folder where you want to host the repo\n",
        "2. set git hosting system username and email\n",
        "3. Clone repo"
      ],
      "metadata": {
        "id": "LwrdC8fewWWu"
      }
    },
    {
      "cell_type": "code",
      "source": [
        "#%cd drive/MyDrive/{your_path}\n",
        "#!git config --global user.name \"{user_name}\"\n",
        "#!git config --global user.email \"{git_user_email}\"\n",
        "#!git clone {git repo url}"
      ],
      "metadata": {
        "id": "x2tMaJmpwQDZ"
      },
      "execution_count": null,
      "outputs": []
    },
    {
      "cell_type": "markdown",
      "source": [
        "### Git workflow: Commit and push your work\n",
        "#### Execute carefully!\n",
        "0. Import credentials and paths, cd to local repo foldera nd config\n",
        "1. Check git status\n",
        "2. Commit changes\n",
        "3. Push to origin repo"
      ],
      "metadata": {
        "id": "cv4LfKl2zGfH"
      }
    },
    {
      "cell_type": "code",
      "source": [
        "#import the git credentials and drive path from credentials file\n",
        "from credentials.credentials import *"
      ],
      "metadata": {
        "id": "vdiOCPHd0FIH"
      },
      "execution_count": null,
      "outputs": []
    },
    {
      "cell_type": "code",
      "source": [
        "#cd to drive folder where your local copy of repo is hosted\n",
        "cmd=\"%cd drive/MyDrive/{}\".format(path)\n",
        "!{cmd}\n",
        "#set user\n",
        "cmd='git config --global user.name \"{}\"'.format(user)\n",
        "!{cmd}\n",
        "#set email\n",
        "cmd='git config --global user.email \"{git_user_email}\"'.format(email)\n",
        "!{cmd}"
      ],
      "metadata": {
        "id": "c8PS_JNs1p1_"
      },
      "execution_count": null,
      "outputs": []
    },
    {
      "cell_type": "code",
      "source": [
        "#check git status\n",
        "!git status"
      ],
      "metadata": {
        "id": "RqJQZj8uzQgg"
      },
      "execution_count": 3,
      "outputs": []
    },
    {
      "cell_type": "code",
      "source": [
        "#add work\n",
        "!git add .\n",
        "!git commit -m \"commit message\""
      ],
      "metadata": {
        "id": "ho66Uv0xzqxP"
      },
      "execution_count": 1,
      "outputs": []
    },
    {
      "cell_type": "code",
      "source": [
        "#push to remote repo and branch (default main)\n",
        "!git push origin main"
      ],
      "metadata": {
        "id": "2n2lx7gB0C7s"
      },
      "execution_count": 2,
      "outputs": []
    }
  ]
}