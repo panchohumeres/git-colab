{
  "nbformat": 4,
  "nbformat_minor": 0,
  "metadata": {
    "colab": {
      "provenance": []
    },
    "kernelspec": {
      "name": "python3",
      "display_name": "Python 3"
    },
    "language_info": {
      "name": "python"
    }
  },
  "cells": [
    {
      "cell_type": "code",
      "execution_count": 1,
      "metadata": {
        "colab": {
          "base_uri": "https://localhost:8080/"
        },
        "id": "ZXxuMopWpYJ-",
        "outputId": "c32263d4-1925-43c4-c61b-8d39189f7aee"
      },
      "outputs": [
        {
          "output_type": "stream",
          "name": "stdout",
          "text": [
            "git version 2.34.1\n"
          ]
        }
      ],
      "source": [
        "#check git version\n",
        "!git --version"
      ]
    },
    {
      "cell_type": "code",
      "source": [
        "#mount google drive\n",
        "from google.colab import drive\n",
        "drive.mount('/content/drive')"
      ],
      "metadata": {
        "colab": {
          "base_uri": "https://localhost:8080/"
        },
        "id": "gmKLrt-Zpoad",
        "outputId": "e5f4bf2a-b67b-43fd-b322-f2e72b874faa"
      },
      "execution_count": 2,
      "outputs": [
        {
          "output_type": "stream",
          "name": "stdout",
          "text": [
            "Mounted at /content/drive\n"
          ]
        }
      ]
    },
    {
      "cell_type": "markdown",
      "source": [
        "### Uncomment and Execute first time\n",
        "Hard-code parameters (git username, git email, git repo url) for one time, uncomment and execute:\n",
        "1. cd to drive folder where you want to host the repo\n",
        "2. set git hosting system username and email\n",
        "3. Clone repo"
      ],
      "metadata": {
        "id": "LwrdC8fewWWu"
      }
    },
    {
      "cell_type": "code",
      "source": [
        "#un-comment if you need to get the path to your google drive folder\n",
        "#!pwd"
      ],
      "metadata": {
        "id": "vk-6rBYjelD5"
      },
      "execution_count": 35,
      "outputs": []
    },
    {
      "cell_type": "code",
      "source": [
        "#here your_path is one level above the repo folder\n",
        "#%cd drive/MyDrive/{your_path}\n",
        "#!git config --global user.name \"{user_name}\"\n",
        "#!git config --global user.email \"{git_user_email}\"\n",
        "#clone repo with your credentials, github example, with this same example repo (replace with path to your repo)\n",
        "#!git clone https://{your_access_token}@github.com/panchohumeres/git-colab.git"
      ],
      "metadata": {
        "id": "x2tMaJmpwQDZ"
      },
      "execution_count": 41,
      "outputs": []
    },
    {
      "cell_type": "code",
      "source": [
        "#cd into the local copy of the repo\n",
        "#use in case you want to start working right now in it\n",
        "#!cd git-colab/"
      ],
      "metadata": {
        "id": "lnTyiIP_ddww"
      },
      "execution_count": 39,
      "outputs": []
    },
    {
      "cell_type": "markdown",
      "source": [
        "### Git workflow: Commit and push your work\n",
        "#### Execute carefully!\n",
        "0. Import credentials and paths, cd to local repo foldera and config\n",
        "1. Check git status\n",
        "2. Commit changes\n",
        "3. Push to origin repo"
      ],
      "metadata": {
        "id": "cv4LfKl2zGfH"
      }
    },
    {
      "cell_type": "code",
      "source": [
        "#add credentials folder to the python path\n",
        "import sys\n",
        "sys.path.insert(0, './credentials')"
      ],
      "metadata": {
        "id": "YGaLB7EZgxfZ"
      },
      "execution_count": 18,
      "outputs": []
    },
    {
      "cell_type": "code",
      "source": [
        "#import the git credentials and drive path from credentials file\n",
        "#{credentials-file} ---> your credentials file inside the credentials folder\n",
        "from {credentials-file} import *"
      ],
      "metadata": {
        "id": "vdiOCPHd0FIH"
      },
      "execution_count": 21,
      "outputs": []
    },
    {
      "cell_type": "code",
      "source": [
        "#cd to drive folder where your local copy of repo is hosted\n",
        "cmd=\"%cd /content/drive/MyDrive/{}\".format(path)\n",
        "!{cmd}\n",
        "#set user\n",
        "cmd='git config --global user.name \"{}\"'.format(user)\n",
        "!{cmd}\n",
        "#set email\n",
        "cmd='git config --global user.email \"{}\"'.format(email)\n",
        "!{cmd}"
      ],
      "metadata": {
        "id": "c8PS_JNs1p1_",
        "colab": {
          "base_uri": "https://localhost:8080/"
        },
        "outputId": "da16afae-840f-4e83-d0e6-cb7e0e82fa46"
      },
      "execution_count": 26,
      "outputs": [
        {
          "output_type": "stream",
          "name": "stdout",
          "text": [
            "/bin/bash: line 1: fg: no job control\n"
          ]
        }
      ]
    },
    {
      "cell_type": "code",
      "source": [
        "#uncomment for testing with empty file\n",
        "#!touch test"
      ],
      "metadata": {
        "id": "MtDHYqNWj2aD"
      },
      "execution_count": 28,
      "outputs": []
    },
    {
      "cell_type": "code",
      "source": [
        "#check git status\n",
        "!git status"
      ],
      "metadata": {
        "id": "RqJQZj8uzQgg",
        "colab": {
          "base_uri": "https://localhost:8080/"
        },
        "outputId": "ad806712-0787-49f1-b034-db6593d0de9b"
      },
      "execution_count": 29,
      "outputs": [
        {
          "output_type": "stream",
          "name": "stdout",
          "text": [
            "On branch main\n",
            "Your branch is up to date with 'origin/main'.\n",
            "\n",
            "Untracked files:\n",
            "  (use \"git add <file>...\" to include in what will be committed)\n",
            "\t\u001b[31mtest\u001b[m\n",
            "\n",
            "nothing added to commit but untracked files present (use \"git add\" to track)\n"
          ]
        }
      ]
    },
    {
      "cell_type": "code",
      "source": [
        "#add work\n",
        "!git add .\n",
        "!git commit -m \"test commit\""
      ],
      "metadata": {
        "id": "ho66Uv0xzqxP",
        "colab": {
          "base_uri": "https://localhost:8080/"
        },
        "outputId": "7935c9fe-ea65-46ea-bda6-3f88cbb4b77a"
      },
      "execution_count": 30,
      "outputs": [
        {
          "output_type": "stream",
          "name": "stdout",
          "text": [
            "[main 19a7374] test commit\n",
            " 1 file changed, 0 insertions(+), 0 deletions(-)\n",
            " create mode 100644 test\n"
          ]
        }
      ]
    },
    {
      "cell_type": "code",
      "source": [
        "#check git status\n",
        "!git status"
      ],
      "metadata": {
        "colab": {
          "base_uri": "https://localhost:8080/"
        },
        "id": "TYuh0mjqldAt",
        "outputId": "a603c87a-f8f4-481a-d37d-eefa804524b4"
      },
      "execution_count": 31,
      "outputs": [
        {
          "output_type": "stream",
          "name": "stdout",
          "text": [
            "On branch main\n",
            "Your branch is ahead of 'origin/main' by 1 commit.\n",
            "  (use \"git push\" to publish your local commits)\n",
            "\n",
            "nothing to commit, working tree clean\n"
          ]
        }
      ]
    },
    {
      "cell_type": "code",
      "source": [
        "#push to remote repo and branch (default main)\n",
        "!git push origin main"
      ],
      "metadata": {
        "id": "2n2lx7gB0C7s",
        "colab": {
          "base_uri": "https://localhost:8080/"
        },
        "outputId": "2c90f881-11c6-4e7f-d601-a4846cc52ce3"
      },
      "execution_count": 32,
      "outputs": [
        {
          "output_type": "stream",
          "name": "stdout",
          "text": [
            "Enumerating objects: 4, done.\n",
            "Counting objects:  25% (1/4)\rCounting objects:  50% (2/4)\rCounting objects:  75% (3/4)\rCounting objects: 100% (4/4)\rCounting objects: 100% (4/4), done.\n",
            "Delta compression using up to 2 threads\n",
            "Compressing objects:  50% (1/2)\rCompressing objects: 100% (2/2)\rCompressing objects: 100% (2/2), done.\n",
            "Writing objects:  33% (1/3)\rWriting objects:  66% (2/3)\rWriting objects: 100% (3/3)\rWriting objects: 100% (3/3), 263 bytes | 26.00 KiB/s, done.\n",
            "Total 3 (delta 1), reused 0 (delta 0), pack-reused 0\n",
            "remote: Resolving deltas:   0% (0/1)\u001b[K\rremote: Resolving deltas: 100% (1/1)\u001b[K\rremote: Resolving deltas: 100% (1/1), completed with 1 local object.\u001b[K\n",
            "To https://github.com/panchohumeres/git-colab.git\n",
            "   56a1772..19a7374  main -> main\n"
          ]
        }
      ]
    }
  ]
}