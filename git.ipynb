{
  "nbformat": 4,
  "nbformat_minor": 0,
  "metadata": {
    "colab": {
      "provenance": []
    },
    "kernelspec": {
      "name": "python3",
      "display_name": "Python 3"
    },
    "language_info": {
      "name": "python"
    }
  },
  "cells": [
    {
      "cell_type": "code",
      "execution_count": 1,
      "metadata": {
        "colab": {
          "base_uri": "https://localhost:8080/"
        },
        "id": "ZXxuMopWpYJ-",
        "outputId": "c32263d4-1925-43c4-c61b-8d39189f7aee"
      },
      "outputs": [
        {
          "output_type": "stream",
          "name": "stdout",
          "text": [
            "git version 2.34.1\n"
          ]
        }
      ],
      "source": [
        "#check git version\n",
        "!git --version"
      ]
    },
    {
      "cell_type": "code",
      "source": [
        "#mount google drive\n",
        "from google.colab import drive\n",
        "drive.mount('/content/drive')"
      ],
      "metadata": {
        "colab": {
          "base_uri": "https://localhost:8080/"
        },
        "id": "gmKLrt-Zpoad",
        "outputId": "e5f4bf2a-b67b-43fd-b322-f2e72b874faa"
      },
      "execution_count": 2,
      "outputs": [
        {
          "output_type": "stream",
          "name": "stdout",
          "text": [
            "Mounted at /content/drive\n"
          ]
        }
      ]
    },
    {
      "cell_type": "markdown",
      "source": [
        "### 0. Uncomment and Execute first time\n",
        "Hard-code parameters (git username, git email, git repo url) for one time, uncomment and execute:\n",
        "1. cd to drive folder where you want to host the repo\n",
        "2. set git hosting system username and email\n",
        "3. Clone repo"
      ],
      "metadata": {
        "id": "LwrdC8fewWWu"
      }
    },
    {
      "cell_type": "code",
      "source": [
        "#un-comment if you need to get the path to your google drive folder\n",
        "#!pwd"
      ],
      "metadata": {
        "id": "vk-6rBYjelD5"
      },
      "execution_count": 35,
      "outputs": []
    },
    {
      "cell_type": "code",
      "source": [
        "#here your_path is one level above the repo folder\n",
        "#%cd drive/MyDrive/{your_path}\n",
        "#!git config --global user.name \"{user_name}\"\n",
        "#!git config --global user.email \"{git_user_email}\"\n",
        "#clone repo with your credentials, github example, with this same example repo (replace with path to your repo)\n",
        "#!git clone https://{your_access_token}@github.com/panchohumeres/git-colab.git"
      ],
      "metadata": {
        "id": "x2tMaJmpwQDZ"
      },
      "execution_count": 41,
      "outputs": []
    },
    {
      "cell_type": "code",
      "source": [
        "#cd into the local copy of the repo\n",
        "#use in case you want to start working right now in it\n",
        "#!cd git-colab/"
      ],
      "metadata": {
        "id": "lnTyiIP_ddww"
      },
      "execution_count": 39,
      "outputs": []
    },
    {
      "cell_type": "markdown",
      "source": [
        "### 1. Git workflow: Commit and push your work\n",
        "#### Execute carefully!\n",
        "0. Import credentials and paths, cd to local repo foldera and config\n",
        "1. Check git status\n",
        "2. Commit changes\n",
        "3. Push to origin repo"
      ],
      "metadata": {
        "id": "cv4LfKl2zGfH"
      }
    },
    {
      "cell_type": "code",
      "source": [
        "#add credentials folder to the python path\n",
        "import sys\n",
        "sys.path.insert(0, './credentials')"
      ],
      "metadata": {
        "id": "YGaLB7EZgxfZ"
      },
      "execution_count": 18,
      "outputs": []
    },
    {
      "cell_type": "code",
      "source": [
        "#import the git credentials and drive path from credentials file\n",
        "#{credentials-file} ---> your credentials file inside the credentials folder\n",
        "from {credentials-file} import *"
      ],
      "metadata": {
        "id": "vdiOCPHd0FIH"
      },
      "execution_count": 21,
      "outputs": []
    },
    {
      "cell_type": "code",
      "source": [
        "#cd to drive folder where your local copy of repo is hosted\n",
        "cmd=\"%cd /content/drive/MyDrive/{}\".format(path)\n",
        "!{cmd}\n",
        "#set user\n",
        "cmd='git config --global user.name \"{}\"'.format(user)\n",
        "!{cmd}\n",
        "#set email\n",
        "cmd='git config --global user.email \"{}\"'.format(email)\n",
        "!{cmd}"
      ],
      "metadata": {
        "id": "c8PS_JNs1p1_",
        "colab": {
          "base_uri": "https://localhost:8080/"
        },
        "outputId": "da16afae-840f-4e83-d0e6-cb7e0e82fa46"
      },
      "execution_count": 26,
      "outputs": [
        {
          "output_type": "stream",
          "name": "stdout",
          "text": [
            "/bin/bash: line 1: fg: no job control\n"
          ]
        }
      ]
    },
    {
      "cell_type": "code",
      "source": [
        "#uncomment in case you need to reload credentials or other local module\n",
        "#{credentials-file} ---> module\n",
        "#import importlib\n",
        "#importlib.reload({credentials-file})\n",
        "#from {credentials-file} import *"
      ],
      "metadata": {
        "id": "y23OOfMm5W4v"
      },
      "execution_count": null,
      "outputs": []
    },
    {
      "cell_type": "code",
      "source": [
        "#uncomment for testing with empty file\n",
        "#!touch test"
      ],
      "metadata": {
        "id": "MtDHYqNWj2aD"
      },
      "execution_count": 28,
      "outputs": []
    },
    {
      "cell_type": "code",
      "source": [
        "#check git status\n",
        "!git status"
      ],
      "metadata": {
        "id": "RqJQZj8uzQgg",
        "colab": {
          "base_uri": "https://localhost:8080/"
        },
        "outputId": "50288ca6-b9f4-41a2-f87c-592ef05f5848"
      },
      "execution_count": 44,
      "outputs": [
        {
          "output_type": "stream",
          "name": "stdout",
          "text": [
            "On branch main\n",
            "Your branch is up to date with 'origin/main'.\n",
            "\n",
            "Changes not staged for commit:\n",
            "  (use \"git add <file>...\" to update what will be committed)\n",
            "  (use \"git restore <file>...\" to discard changes in working directory)\n",
            "\t\u001b[31mmodified:   git.ipynb\u001b[m\n",
            "\n",
            "no changes added to commit (use \"git add\" and/or \"git commit -a\")\n"
          ]
        }
      ]
    },
    {
      "cell_type": "code",
      "source": [
        "#add work\n",
        "!git add .\n",
        "!git commit -m \"changing git.ipynb\""
      ],
      "metadata": {
        "id": "ho66Uv0xzqxP",
        "colab": {
          "base_uri": "https://localhost:8080/"
        },
        "outputId": "18ac2539-316f-4684-df61-0d79a8654b85"
      },
      "execution_count": 45,
      "outputs": [
        {
          "output_type": "stream",
          "name": "stdout",
          "text": [
            "[main 7de549c] changing git.ipynb\n",
            " 1 file changed, 169 insertions(+), 23 deletions(-)\n"
          ]
        }
      ]
    },
    {
      "cell_type": "code",
      "source": [
        "#check git status\n",
        "!git status"
      ],
      "metadata": {
        "colab": {
          "base_uri": "https://localhost:8080/"
        },
        "id": "TYuh0mjqldAt",
        "outputId": "d599aead-5314-49ac-b050-224a3d46d3fd"
      },
      "execution_count": 46,
      "outputs": [
        {
          "output_type": "stream",
          "name": "stdout",
          "text": [
            "On branch main\n",
            "Your branch is ahead of 'origin/main' by 1 commit.\n",
            "  (use \"git push\" to publish your local commits)\n",
            "\n",
            "nothing to commit, working tree clean\n"
          ]
        }
      ]
    },
    {
      "cell_type": "code",
      "source": [
        "#push to remote repo and branch (default main)\n",
        "!git push origin main"
      ],
      "metadata": {
        "id": "2n2lx7gB0C7s",
        "colab": {
          "base_uri": "https://localhost:8080/"
        },
        "outputId": "b26aeaaf-4d6a-4c07-ad58-1e5834c9b4ca"
      },
      "execution_count": 47,
      "outputs": [
        {
          "output_type": "stream",
          "name": "stdout",
          "text": [
            "Enumerating objects: 5, done.\n",
            "Counting objects:  20% (1/5)\rCounting objects:  40% (2/5)\rCounting objects:  60% (3/5)\rCounting objects:  80% (4/5)\rCounting objects: 100% (5/5)\rCounting objects: 100% (5/5), done.\n",
            "Delta compression using up to 2 threads\n",
            "Compressing objects:  33% (1/3)\rCompressing objects:  66% (2/3)\rCompressing objects: 100% (3/3)\rCompressing objects: 100% (3/3), done.\n",
            "Writing objects:  33% (1/3)\rWriting objects:  66% (2/3)\rWriting objects: 100% (3/3)\rWriting objects: 100% (3/3), 2.47 KiB | 280.00 KiB/s, done.\n",
            "Total 3 (delta 1), reused 0 (delta 0), pack-reused 0\n",
            "remote: Resolving deltas:   0% (0/1)\u001b[K\rremote: Resolving deltas: 100% (1/1)\u001b[K\rremote: Resolving deltas: 100% (1/1), completed with 1 local object.\u001b[K\n",
            "To https://github.com/panchohumeres/git-colab.git\n",
            "   19a7374..7de549c  main -> main\n"
          ]
        }
      ]
    }
  ]
}